{
 "cells": [
  {
   "cell_type": "code",
   "execution_count": 2,
   "metadata": {},
   "outputs": [],
   "source": [
    "# Problem 17\n",
    "# nope. its too much work for a learning effect...\n",
    "\n",
    "def get_char_of_int(number):\n",
    "    if number == 1:\n",
    "        erg = \"one\"\n",
    "    elif number == 2:\n",
    "        erg = \"two\"\n",
    "    elif number == 3:\n",
    "        erg = \"three\"\n",
    "    elif number == 4:\n",
    "        erg = \"four\"\n",
    "    elif number == 5:\n",
    "        erg = \"five\"\n",
    "    elif number == 6:\n",
    "        erg = \"six\"\n",
    "    elif number == 7:\n",
    "        erg = \"seven\"    \n",
    "    elif number == 8:\n",
    "        erg = \"eight\"\n",
    "    elif number == 9:\n",
    "        erg = \"nine\"\n",
    "    else:\n",
    "        erg = \"zero\"\n",
    "    \n",
    "    return len(erg)\n",
    "\n",
    "def get_char_count(number):\n",
    "    sum = 0\n",
    "    number_text = str(number)\n",
    "    \n",
    "    while len(number_text) > 0:\n",
    "        char = int(number_of_text) % 10\n",
    "        sum += get_char_of_int(char)\n",
    "        \n",
    "        \n",
    "    return sum\n",
    "        \n",
    "        "
   ]
  }
 ],
 "metadata": {
  "kernelspec": {
   "display_name": "Python 3",
   "language": "python",
   "name": "python3"
  },
  "language_info": {
   "codemirror_mode": {
    "name": "ipython",
    "version": 3
   },
   "file_extension": ".py",
   "mimetype": "text/x-python",
   "name": "python",
   "nbconvert_exporter": "python",
   "pygments_lexer": "ipython3",
   "version": "3.6.2"
  }
 },
 "nbformat": 4,
 "nbformat_minor": 2
}
