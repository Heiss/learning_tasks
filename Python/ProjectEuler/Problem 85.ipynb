{
 "cells": [
  {
   "cell_type": "code",
   "execution_count": 7,
   "metadata": {},
   "outputs": [
    {
     "name": "stdout",
     "output_type": "stream",
     "text": [
      "Time: 0.004499912261962891, Area: 2772)\n"
     ]
    }
   ],
   "source": [
    "# Problem 85\n",
    "import time\n",
    "import sys\n",
    "\n",
    "starttime = time.time()\n",
    "\n",
    "def binominial(n):\n",
    "    return ((n+1)*n)/2\n",
    "\n",
    "x = 2000\n",
    "y = 1\n",
    "\n",
    "target = 2*10**6\n",
    "rects = 0\n",
    "\n",
    "smallest_area = 0\n",
    "error = sys.maxsize\n",
    "\n",
    "while x >= y:  \n",
    "    rects = binominial(x) * binominial(y)\n",
    "    \n",
    "    if error > abs(rects - target):\n",
    "        smallest_area = x * y\n",
    "        error = abs(rects - target)\n",
    "    \n",
    "    if rects > target:\n",
    "        x -= 1\n",
    "    else:\n",
    "        y += 1\n",
    "    \n",
    "print(\"Time: {}, Area: {})\".format(time.time()-starttime, smallest_area))\n",
    "    "
   ]
  }
 ],
 "metadata": {
  "kernelspec": {
   "display_name": "Python [conda root]",
   "language": "python",
   "name": "conda-root-py"
  }
 },
 "nbformat": 4,
 "nbformat_minor": 2
}
