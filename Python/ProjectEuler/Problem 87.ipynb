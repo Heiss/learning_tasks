{
 "cells": [
  {
   "cell_type": "code",
   "execution_count": 19,
   "metadata": {},
   "outputs": [
    {
     "name": "stdout",
     "output_type": "stream",
     "text": [
      "Time: 2.771475315093994, Sum: 1097343\n"
     ]
    }
   ],
   "source": [
    "#Problem 87\n",
    "\n",
    "from sympy import sieve\n",
    "import numpy as np\n",
    "import math\n",
    "import time\n",
    "import sys\n",
    "from decimal import *\n",
    "\n",
    "starttime = time.time()\n",
    "      \n",
    "target = 50*10**6\n",
    "\n",
    "sieve.extend(target**(1/2))\n",
    "square = np.power(sieve._list, 2, dtype=np.int64)\n",
    "\n",
    "sieve.extend(target**(1/3))\n",
    "cube = np.power(sieve._list, 3, dtype=np.int64)\n",
    "\n",
    "sieve.extend(target**(1/4))\n",
    "fourth = np.power(sieve._list, 4, dtype=np.int64)\n",
    "\n",
    "numbers = set()\n",
    "\n",
    "for x in square:\n",
    "    for y in cube:\n",
    "        for z in fourth:\n",
    "            ret = abs(x+y+z)\n",
    "            if ret > target:\n",
    "                break\n",
    "            else:\n",
    "                numbers.add(ret)\n",
    "\n",
    "print(\"Time: {}, Sum: {}\".format(time.time() - starttime, len(numbers)))"
   ]
  }
 ],
 "metadata": {
  "kernelspec": {
   "display_name": "Python [conda root]",
   "language": "python",
   "name": "conda-root-py"
  },
  "language_info": {
   "codemirror_mode": {
    "name": "ipython",
    "version": 3
   },
   "file_extension": ".py",
   "mimetype": "text/x-python",
   "name": "python",
   "nbconvert_exporter": "python",
   "pygments_lexer": "ipython3",
   "version": "3.5.3"
  }
 },
 "nbformat": 4,
 "nbformat_minor": 2
}
