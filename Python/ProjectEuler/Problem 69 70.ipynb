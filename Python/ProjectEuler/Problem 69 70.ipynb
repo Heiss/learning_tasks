{
 "cells": [
  {
   "cell_type": "code",
   "execution_count": 25,
   "metadata": {},
   "outputs": [
    {
     "name": "stdout",
     "output_type": "stream",
     "text": [
      "Time: 0.0009944438934326172, Sum: 510510\n"
     ]
    }
   ],
   "source": [
    "# Problem 69\n",
    "import math\n",
    "from sympy.ntheory import isprime, totient\n",
    "from sympy import sieve\n",
    "\n",
    "from time import time\n",
    "starttime = time()\n",
    "\n",
    "target = 10**6\n",
    "max_value = 0\n",
    "\n",
    "def bruteforce():\n",
    "    for n in range(1, target+1):\n",
    "        if isprime(n):\n",
    "            continue\n",
    "        \n",
    "        val = float(n)/totient(n)\n",
    "\n",
    "        if val > max_value:\n",
    "            max_value = val\n",
    "    \n",
    "    print(\"Time: {}, Sum: {}\".format(time() - starttime, max_value))\n",
    "    \n",
    "def smarter_version():\n",
    "    sieve.extend(target)\n",
    "    \n",
    "    result = 1\n",
    "    for i in sieve._list:\n",
    "        if result * i > target:\n",
    "            break\n",
    "            \n",
    "        result *= i\n",
    "    \n",
    "    print(\"Time: {}, Sum: {}\".format(time() - starttime, result))\n",
    "    \n",
    "smarter_version()"
   ]
  },
  {
   "cell_type": "code",
   "execution_count": 33,
   "metadata": {},
   "outputs": [
    {
     "name": "stdout",
     "output_type": "stream",
     "text": [
      "Time: 0.20714044570922852, Value: 1.0007090511248113, n: 8319823\n"
     ]
    }
   ],
   "source": [
    "# Problem 70\n",
    "\n",
    "import sys\n",
    "from sympy import sieve\n",
    "\n",
    "from time import time\n",
    "starttime = time()\n",
    "\n",
    "target = 10**7\n",
    "min_n, min_value = sys.maxsize, sys.maxsize\n",
    "\n",
    "lower, upper = 2000, 5000 # x < sqrt(target) < y\n",
    "\n",
    "for x in [i for i in sieve.primerange(lower, upper)]:\n",
    "    for y in [i for i in sieve.primerange(x+1, upper)]:\n",
    "        result = x * y\n",
    "        phi = (x - 1) * (y - 1) # multiplikativ\n",
    "        \n",
    "        if result > target:\n",
    "            break\n",
    "        \n",
    "        if \"\".join(sorted(str(result))) == \"\".join(sorted(str(phi))):\n",
    "            ratio = float(result) / phi\n",
    "            if ratio < min_value:\n",
    "                min_value = ratio\n",
    "                min_n = result\n",
    "                \n",
    "print(\"Time: {}, Value: {}, n: {}\".format(time() - starttime, min_value, min_n))"
   ]
  },
  {
   "cell_type": "code",
   "execution_count": null,
   "metadata": {
    "collapsed": true
   },
   "outputs": [],
   "source": []
  }
 ],
 "metadata": {
  "kernelspec": {
   "display_name": "Python [conda root]",
   "language": "python",
   "name": "conda-root-py"
  },
  "language_info": {
   "codemirror_mode": {
    "name": "ipython",
    "version": 3
   },
   "file_extension": ".py",
   "mimetype": "text/x-python",
   "name": "python",
   "nbconvert_exporter": "python",
   "pygments_lexer": "ipython3",
   "version": "3.5.3"
  }
 },
 "nbformat": 4,
 "nbformat_minor": 2
}
