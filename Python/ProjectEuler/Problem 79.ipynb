{
 "cells": [
  {
   "cell_type": "code",
   "execution_count": 1,
   "metadata": {},
   "outputs": [
    {
     "name": "stdout",
     "output_type": "stream",
     "text": [
      "0 []\n",
      "1 [0, 1, 2, 6, 8, 9]\n",
      "2 [8, 9, 0]\n",
      "3 [0, 1, 2, 6, 8, 9]\n",
      "6 [0, 9, 2, 8]\n",
      "7 [0, 1, 2, 3, 6, 8, 9]\n",
      "8 [0, 9]\n",
      "9 []\n",
      "Time: 0.002500772476196289, Result: 73162890\n"
     ]
    }
   ],
   "source": [
    "#Problem 79\n",
    "import sys, time\n",
    "\n",
    "starttime = time.time()\n",
    "\n",
    "lines = []\n",
    "with open('p079_keylog.txt') as f:\n",
    "    for line in f:\n",
    "        lines.append(line.strip())\n",
    "f.close()\n",
    "\n",
    "lines = list(set(lines))\n",
    "\n",
    "def get_shortest_index(dictionary):\n",
    "    idx = 0\n",
    "    smallest_length = sys.maxsize\n",
    "    \n",
    "    for key, value in dictionary.items():\n",
    "        if len(value) < smallest_length:\n",
    "            smallest_length = len(value)\n",
    "            idx = key\n",
    "                \n",
    "    return idx\n",
    "\n",
    "# generate dictionary\n",
    "next = {}\n",
    "\n",
    "# find all next numbers\n",
    "for l in lines:\n",
    "    if int(l[0]) not in next:\n",
    "        next[int(l[0])] = []\n",
    "        \n",
    "    for i in range(1, 3):\n",
    "        next[int(l[0])].append(int(l[i]))\n",
    "        \n",
    "        # maybe the number has no next, because its the last number\n",
    "        if int(l[i]) not in next:\n",
    "            next[int(l[i])] = []\n",
    "\n",
    "# remove duplicates\n",
    "for i in range(0, 10):\n",
    "    if i in next:\n",
    "        next[i] = list(set(next[i]))\n",
    "\n",
    "\n",
    "for k, v in next.items():\n",
    "    print(k, v)\n",
    "\n",
    "# now find the string, which is defined by the length in the data structure\n",
    "result = \"\"\n",
    "while len(next) > 0:\n",
    "    key = get_shortest_index(next)\n",
    "    next.pop(key, None)\n",
    "    result += str(key)\n",
    "\n",
    "print(\"Time: {}, Result: {}\".format(time.time() - starttime, result[::-1]))\n",
    "\n",
    "        "
   ]
  }
 ],
 "metadata": {
  "kernelspec": {
   "display_name": "Python [conda root]",
   "language": "python",
   "name": "conda-root-py"
  },
  "language_info": {
   "codemirror_mode": {
    "name": "ipython",
    "version": 3
   },
   "file_extension": ".py",
   "mimetype": "text/x-python",
   "name": "python",
   "nbconvert_exporter": "python",
   "pygments_lexer": "ipython3",
   "version": "3.5.3"
  }
 },
 "nbformat": 4,
 "nbformat_minor": 2
}
