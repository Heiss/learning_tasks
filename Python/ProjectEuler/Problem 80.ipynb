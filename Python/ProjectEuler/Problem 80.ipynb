{
 "cells": [
  {
   "cell_type": "code",
   "execution_count": 41,
   "metadata": {},
   "outputs": [
    {
     "name": "stdout",
     "output_type": "stream",
     "text": [
      "Time: 0.007007598876953125, Sum: 40316\n"
     ]
    }
   ],
   "source": [
    "#Problem 80\n",
    "\n",
    "import math\n",
    "from decimal import *\n",
    "import time\n",
    "\n",
    "starttime = time.time()\n",
    "getcontext().prec = 102\n",
    "\n",
    "def sum_digits(number):\n",
    "    sum = 0\n",
    "    string = str(number)\n",
    "    \n",
    "    for i in range(2, 100+1):\n",
    "        sum += int(string[i])\n",
    "        \n",
    "    return sum\n",
    "\n",
    "result = 0\n",
    "square = 1\n",
    "for i in range(1, 10**2 + 1):\n",
    "    if square ** 2 == i:\n",
    "        square += 1\n",
    "        continue\n",
    "        \n",
    "    result += sum_digits(Decimal(i).sqrt())\n",
    "        \n",
    "print(\"Time: {}, Sum: {}\".format(time.time() - starttime, result))"
   ]
  }
 ],
 "metadata": {
  "kernelspec": {
   "display_name": "Python [conda root]",
   "language": "python",
   "name": "conda-root-py"
  },
  "language_info": {
   "codemirror_mode": {
    "name": "ipython",
    "version": 3
   },
   "file_extension": ".py",
   "mimetype": "text/x-python",
   "name": "python",
   "nbconvert_exporter": "python",
   "pygments_lexer": "ipython3",
   "version": "3.5.3"
  }
 },
 "nbformat": 4,
 "nbformat_minor": 2
}
