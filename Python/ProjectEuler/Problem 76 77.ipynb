{
 "cells": [
  {
   "cell_type": "code",
   "execution_count": 13,
   "metadata": {},
   "outputs": [
    {
     "name": "stdout",
     "output_type": "stream",
     "text": [
      "Time: 0.0024983882904052734, Ways: 190569291\n"
     ]
    }
   ],
   "source": [
    "#problem 76\n",
    "import time\n",
    "\n",
    "starttime = time.time()\n",
    "ways = {}\n",
    "ways[0] = 1\n",
    "target = 100\n",
    "for i in range(1, target):\n",
    "    for j in range(i, target+1):\n",
    "        try:\n",
    "            ways[j] += ways[j - i]\n",
    "        except KeyError:\n",
    "            ways[j] = ways[j - i]\n",
    "        \n",
    "print(\"Time: {}, Ways: {}\".format(time.time() - starttime, ways[target]))"
   ]
  },
  {
   "cell_type": "code",
   "execution_count": 38,
   "metadata": {},
   "outputs": [
    {
     "name": "stdout",
     "output_type": "stream",
     "text": [
      "Time: 0.11954021453857422, Target: 71, Ways: 5007\n"
     ]
    }
   ],
   "source": [
    "#Problem 77\n",
    "from sympy import sieve\n",
    "import sys\n",
    "import time\n",
    "\n",
    "starttime = time.time()\n",
    "max_number = 10**3\n",
    "\n",
    "sieve.extend(max_number)\n",
    "#primes = sieve._list\n",
    "#primes.sort(reverse=True)\n",
    "target = 2\n",
    "\n",
    "while True:\n",
    "    ways = {}\n",
    "    ways[0] = 1\n",
    "    ways[1] = 0\n",
    "\n",
    "    for i in range(0, len(sieve._list)):\n",
    "        for j in range(sieve[i], target+1):\n",
    "            try:\n",
    "                ways[j] += ways[j - sieve[i]]\n",
    "            except KeyError:\n",
    "                ways[j] = ways[j - sieve[i]] \n",
    "                \n",
    "    if ways[target] > 5000:\n",
    "        break\n",
    "    target += 1\n",
    "            \n",
    "print(\"Time: {}, Target: {}, Ways: {}\".format(time.time() - starttime, target, ways[target]))"
   ]
  }
 ],
 "metadata": {
  "kernelspec": {
   "display_name": "Python [conda root]",
   "language": "python",
   "name": "conda-root-py"
  },
  "language_info": {
   "codemirror_mode": {
    "name": "ipython",
    "version": 3
   },
   "file_extension": ".py",
   "mimetype": "text/x-python",
   "name": "python",
   "nbconvert_exporter": "python",
   "pygments_lexer": "ipython3",
   "version": "3.5.3"
  }
 },
 "nbformat": 4,
 "nbformat_minor": 2
}
