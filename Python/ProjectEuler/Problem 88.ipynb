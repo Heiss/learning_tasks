{
 "cells": [
  {
   "cell_type": "code",
   "execution_count": 12,
   "metadata": {
    "scrolled": true
   },
   "outputs": [
    {
     "name": "stdout",
     "output_type": "stream",
     "text": [
      "2 = 0 + 1 + 1\n",
      "3 = 0 + 1 + 2\n",
      "4 = 0 + 1 + 3\n",
      "5 = 0 + 1 + 4\n",
      "6 = 0 + 1 + 5\n",
      "7 = 0 + 1 + 6\n",
      "4 = 0 + 2 + 2\n",
      "5 = 0 + 2 + 3\n",
      "6 = 0 + 2 + 4\n",
      "7 = 0 + 2 + 5\n",
      "8 = 0 + 2 + 6\n",
      "6 = 0 + 3 + 3\n",
      "7 = 0 + 3 + 4\n",
      "8 = 0 + 3 + 5\n",
      "9 = 0 + 3 + 6\n",
      "8 = 0 + 4 + 4\n",
      "9 = 0 + 4 + 5\n",
      "10 = 0 + 4 + 6\n",
      "10 = 0 + 5 + 5\n",
      "11 = 0 + 5 + 6\n",
      "12 = 0 + 6 + 6\n",
      "5 = 1 + 2 + 2\n",
      "6 = 1 + 2 + 3\n",
      "7 = 1 + 2 + 4\n",
      "8 = 1 + 2 + 5\n",
      "9 = 1 + 2 + 6\n",
      "7 = 1 + 3 + 3\n",
      "8 = 1 + 3 + 4\n",
      "9 = 1 + 3 + 5\n",
      "10 = 1 + 3 + 6\n",
      "9 = 1 + 4 + 4\n",
      "10 = 1 + 4 + 5\n",
      "11 = 1 + 4 + 6\n",
      "11 = 1 + 5 + 5\n",
      "12 = 1 + 5 + 6\n",
      "13 = 1 + 6 + 6\n",
      "8 = 2 + 3 + 3\n",
      "9 = 2 + 3 + 4\n",
      "10 = 2 + 3 + 5\n",
      "11 = 2 + 3 + 6\n",
      "10 = 2 + 4 + 4\n",
      "11 = 2 + 4 + 5\n",
      "12 = 2 + 4 + 6\n",
      "12 = 2 + 5 + 5\n",
      "13 = 2 + 5 + 6\n",
      "14 = 2 + 6 + 6\n",
      "11 = 3 + 4 + 4\n",
      "12 = 3 + 4 + 5\n",
      "13 = 3 + 4 + 6\n",
      "13 = 3 + 5 + 5\n",
      "14 = 3 + 5 + 6\n",
      "15 = 3 + 6 + 6\n",
      "14 = 4 + 5 + 5\n",
      "15 = 4 + 5 + 6\n",
      "16 = 4 + 6 + 6\n",
      "17 = 5 + 6 + 6\n",
      "{6}\n",
      "Time: 0.006000518798828125, Sum: 1\n"
     ]
    }
   ],
   "source": [
    "# Problem 88\n",
    "\n",
    "from time import time\n",
    "\n",
    "starttime = time()\n",
    "target = 6\n",
    "ret = set()\n",
    "\n",
    "for max in range(1, target):\n",
    "    factor = []\n",
    "    while True:\n",
    "        for x in range(1, max):\n",
    "            pass \n",
    "\n",
    "print(ret)\n",
    "print(\"Time: {}, Sum: {}\".format(time() - starttime, len(ret)))"
   ]
  }
 ],
 "metadata": {
  "kernelspec": {
   "display_name": "Python [conda root]",
   "language": "python",
   "name": "conda-root-py"
  },
  "language_info": {
   "codemirror_mode": {
    "name": "ipython",
    "version": 3
   },
   "file_extension": ".py",
   "mimetype": "text/x-python",
   "name": "python",
   "nbconvert_exporter": "python",
   "pygments_lexer": "ipython3",
   "version": "3.5.3"
  }
 },
 "nbformat": 4,
 "nbformat_minor": 2
}
