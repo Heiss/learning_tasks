{
 "cells": [
  {
   "cell_type": "code",
   "execution_count": null,
   "metadata": {
    "collapsed": true
   },
   "outputs": [],
   "source": [
    "# Problem 58\n",
    "from sympy.ntheory import isprime\n",
    "from math import sqrt\n",
    "\n",
    "count = 0\n",
    "n = 1\n",
    "e = 2\n",
    "i = 1\n",
    "\n",
    "ratio = 1\n",
    "\n",
    "while ratio > 0.1:\n",
    "    # iterate over the edges\n",
    "    i += e\n",
    "    \n",
    "    # entered a new layer?\n",
    "    if sqrt(i) % 2 == 1:\n",
    "        e += 2\n",
    "        n += 2\n",
    "        \n",
    "    if isprime(i):\n",
    "        count += 1\n",
    "        \n",
    "    ratio = count / (n * 2 -1)\n",
    "\n",
    "print(\"Count: {}, Diagonal: {}, Ratio: {}\".format(count, n * 2 -1, ratio))\n",
    "print(\"Side length: {}\".format(n))"
   ]
  }
 ],
 "metadata": {
  "kernelspec": {
   "display_name": "Python [conda root]",
   "language": "python",
   "name": "conda-root-py"
  },
  "language_info": {
   "codemirror_mode": {
    "name": "ipython",
    "version": 3
   },
   "file_extension": ".py",
   "mimetype": "text/x-python",
   "name": "python",
   "nbconvert_exporter": "python",
   "pygments_lexer": "ipython3",
   "version": "3.5.3"
  }
 },
 "nbformat": 4,
 "nbformat_minor": 2
}
