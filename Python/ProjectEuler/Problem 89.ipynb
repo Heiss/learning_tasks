{
 "cells": [
  {
   "cell_type": "code",
   "execution_count": 9,
   "metadata": {},
   "outputs": [
    {
     "name": "stdout",
     "output_type": "stream",
     "text": [
      "MMMMDCLXXII 4672 DMDCCLLLLLL\n"
     ]
    }
   ],
   "source": [
    "# Problem 89\n",
    "\n",
    "lines = []\n",
    "with open('p089_roman.txt') as f:\n",
    "    for line in f:\n",
    "        for l in line.strip().split(\",\"):\n",
    "            lines.append(l)\n",
    "f.close()\n",
    "\n",
    "list_roman = [\"M\", \"D\", \"C\", \"L\", \"X\", \"V\", \"I\"]\n",
    "\n",
    "def conv_number(r):\n",
    "    if r == \"I\":\n",
    "        return 1\n",
    "    elif r == \"V\":\n",
    "        return 5\n",
    "    elif r == \"X\":\n",
    "        return 10\n",
    "    elif r == \"L\":\n",
    "        return 50\n",
    "    elif r == \"C\":\n",
    "        return 100\n",
    "    elif r == \"D\":\n",
    "        return 500\n",
    "    elif r == \"M\":\n",
    "        return 1000\n",
    "    else:\n",
    "        return 0\n",
    "    \n",
    "def convert_to_number(roman_number : str):\n",
    "    sum = 0\n",
    "    \n",
    "    for char in roman_number:\n",
    "        sum += conv_number(char)\n",
    "        \n",
    "    return sum\n",
    "    \n",
    "def conv_roman(r : int, pot : int):\n",
    "    if pot == 3:\n",
    "        return advanced_roman_number(r, list_roman[0], list_roman[1])\n",
    "    elif pot == 2:\n",
    "        return advanced_roman_number(r, list_roman[1], list_roman[2])\n",
    "    elif pot == 1:\n",
    "        return advanced_roman_number(r, list_roman[2], list_roman[3])\n",
    "    else:\n",
    "        return advanced_roman_number(r, list_roman[3], list_roman[3])\n",
    "\n",
    "def advanced_roman_number(r : int, ro : str, prev_ro : str):\n",
    "    ret = \"\"\n",
    "    \n",
    "    if r >= 5:\n",
    "        ret += ro\n",
    "        for i in range(0, r - 5):\n",
    "            ret += prev_ro\n",
    "    else:\n",
    "        for i in range(0, 5 - r):\n",
    "            ret += prev_ro\n",
    "        ret += ro\n",
    "    \n",
    "    return ret\n",
    "\n",
    "def convert_to_roman(number):\n",
    "    ret = \"\"\n",
    "    \n",
    "    i = len(str(number)) - 1\n",
    "    for char in str(number):\n",
    "        ret += conv_roman(int(char), i)\n",
    "        i -= 1\n",
    "    \n",
    "    return ret\n",
    "\n",
    "\n",
    "print(lines[0], convert_to_number(lines[0]), convert_to_roman(convert_to_number(lines[0])))"
   ]
  }
 ],
 "metadata": {
  "kernelspec": {
   "display_name": "Python [conda root]",
   "language": "python",
   "name": "conda-root-py"
  },
  "language_info": {
   "codemirror_mode": {
    "name": "ipython",
    "version": 3
   },
   "file_extension": ".py",
   "mimetype": "text/x-python",
   "name": "python",
   "nbconvert_exporter": "python",
   "pygments_lexer": "ipython3",
   "version": "3.5.3"
  }
 },
 "nbformat": 4,
 "nbformat_minor": 2
}
