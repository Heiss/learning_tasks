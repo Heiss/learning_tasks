{
 "cells": [
  {
   "cell_type": "code",
   "execution_count": 45,
   "metadata": {},
   "outputs": [
    {
     "name": "stdout",
     "output_type": "stream",
     "text": [
      "100\n",
      "200\n",
      "300\n",
      "400\n",
      "500\n",
      "600\n",
      "700\n",
      "800\n",
      "900\n",
      "1000\n",
      "1100\n",
      "1200\n",
      "1300\n",
      "1400\n",
      "1500\n",
      "1600\n",
      "1700\n",
      "1800\n",
      "Time: 2964.3763744831085, Sum: 1000457 by dimension: 1817\n"
     ]
    }
   ],
   "source": [
    "# Problem 86\n",
    "import math, time\n",
    "\n",
    "starttime = time.time()\n",
    "\n",
    "def calc_shortest_length(dimension : tuple):\n",
    "    (x,y,z) = dimension\n",
    "    return math.sqrt((y + z)**2 + x**2)\n",
    "\n",
    "target = 10**6\n",
    "\n",
    "x = 1\n",
    "sum = 0\n",
    "while sum < target:\n",
    "    if x % 100 == 0:\n",
    "        print(x)\n",
    "    x += 1\n",
    "    for y in range(1, x+1):\n",
    "        for z in range(1,y+1):\n",
    "            dim = (x,y,z)\n",
    "\n",
    "            ret = calc_shortest_length(dim)\n",
    "            if ret == math.floor(ret):\n",
    "                #print(dim)\n",
    "                sum += 1\n",
    "    \n",
    "                    \n",
    "print(\"Time: {}, Sum: {} by dimension: {}\".format(time.time()-starttime, sum, x))"
   ]
  },
  {
   "cell_type": "code",
   "execution_count": 44,
   "metadata": {},
   "outputs": [
    {
     "name": "stdout",
     "output_type": "stream",
     "text": [
      "1818\n"
     ]
    }
   ],
   "source": [
    "# http://www.mathblog.dk/project-euler-86-shortest-path-cuboid/ \n",
    "from heapq import heappop, heappush\n",
    " \n",
    "def pythagorean_triples():\n",
    "    def push_triple(a, b, c):\n",
    "        a, b, c = sorted([a, b, c])\n",
    "        if b <= 2*a:\n",
    "            heappush(triples, (a, (a, b, c, 1)))\n",
    "        heappush(triples, (b, (b, a, c, 1)))\n",
    " \n",
    "    triples = []\n",
    "    push_triple(3, 4, 5)\n",
    "    while True:\n",
    "        M, (a, b, c, k) = heappop(triples)\n",
    "        heappush(triples, (M+a, (a, b, c, k+1)))\n",
    "        if k == 1 and a > b:\n",
    "            push_triple( a-2*b+2*c,  2*a-b+2*c,  2*a-2*b+3*c)\n",
    "            push_triple( a+2*b+2*c,  2*a+b+2*c,  2*a+2*b+3*c)\n",
    "            push_triple(-a+2*b+2*c, -2*a+b+2*c, -2*a+2*b+3*c)\n",
    "        yield M, (a, b, c, k)\n",
    " \n",
    "def solve(target=10**6):\n",
    "    count = 0\n",
    "    for M, (a, b, c, k) in pythagorean_triples():\n",
    "        ka, kb = k*a, k*b\n",
    "        count += min(ka+1, kb) - (kb+1)//2\n",
    "        if count > target:\n",
    "            break\n",
    "    return M\n",
    " \n",
    "if __name__ == '__main__':\n",
    "    # print solve(2000)\n",
    "    print(solve())"
   ]
  }
 ],
 "metadata": {
  "kernelspec": {
   "display_name": "Python [conda root]",
   "language": "python",
   "name": "conda-root-py"
  }
 },
 "nbformat": 4,
 "nbformat_minor": 2
}
