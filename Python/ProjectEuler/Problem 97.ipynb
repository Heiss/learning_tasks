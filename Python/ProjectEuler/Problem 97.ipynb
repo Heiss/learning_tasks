{
 "cells": [
  {
   "cell_type": "code",
   "execution_count": 43,
   "metadata": {},
   "outputs": [
    {
     "name": "stdout",
     "output_type": "stream",
     "text": [
      "Time: 0.0, Value: 8739992577\n",
      "Time: 0.0009987354278564453, Value: 8739992577\n"
     ]
    }
   ],
   "source": [
    "# Problem 97\n",
    "\n",
    "import math\n",
    "from time import time\n",
    "\n",
    "starttime = time()\n",
    "\n",
    "print(\"Time: {}, Value: {}\".format(time() - starttime, (28433 * pow(2, 7830457, 10**10) + 1) % 10**10))\n",
    "\n",
    "def new_pow(a,b,mod):\n",
    "    pow_list = []\n",
    "    \n",
    "    x = a\n",
    "    y = b\n",
    "    pot = 1\n",
    "    \n",
    "    while y > 0:\n",
    "        if y % 2 == 1:\n",
    "            y -= 1\n",
    "            pot = (pot * x) % mod\n",
    "        else:\n",
    "            x = (x**2) % mod\n",
    "            y /= 2\n",
    "    return pot\n",
    "\n",
    "print(\"Time: {}, Value: {}\".format(time() - starttime, (28433 * new_pow(2, 7830457, 10**10) + 1) % 10**10))"
   ]
  }
 ],
 "metadata": {
  "kernelspec": {
   "display_name": "Python [conda root]",
   "language": "python",
   "name": "conda-root-py"
  },
  "language_info": {
   "codemirror_mode": {
    "name": "ipython",
    "version": 3
   },
   "file_extension": ".py",
   "mimetype": "text/x-python",
   "name": "python",
   "nbconvert_exporter": "python",
   "pygments_lexer": "ipython3",
   "version": "3.5.3"
  }
 },
 "nbformat": 4,
 "nbformat_minor": 2
}
