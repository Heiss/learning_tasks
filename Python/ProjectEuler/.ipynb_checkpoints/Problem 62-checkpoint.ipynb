{
 "cells": [
  {
   "cell_type": "code",
   "execution_count": null,
   "metadata": {
    "collapsed": true
   },
   "outputs": [],
   "source": [
    "# Problem 62\n",
    "import itertools\n",
    "import math\n",
    "import sys\n",
    "import time\n",
    "\n",
    "starttime = time.time()\n",
    "\n",
    "print(\"Start working...\")\n",
    "for i in range(111, 10**6):\n",
    "    if i % 10**4 == 0:\n",
    "        print(\"working...\")\n",
    "    \n",
    "    counter = 0\n",
    "    smallest_cube = sys.maxsize\n",
    "    breaker = None\n",
    "    \n",
    "    c = i**3\n",
    "    \n",
    "    l1 = list(map(\"\".join, itertools.permutations(str(c))))\n",
    "    \n",
    "    for l in l1:\n",
    "        if int(l) < 111:\n",
    "            continue\n",
    "            \n",
    "        cube = float(l)**(1/3.0)\n",
    "        if cube.is_integer():\n",
    "            if cube < smallest_cube:\n",
    "                smallest_cube = cube\n",
    "            counter += 1\n",
    "        \n",
    "        if counter == 3:\n",
    "            breaker = True\n",
    "            break\n",
    "    if breaker is not None:\n",
    "        break\n",
    "\n",
    "print(\"Timer: {}, cube: {}\".format(time.time() - starttime, smallest_cube))\n",
    "        "
   ]
  }
 ],
 "metadata": {
  "kernelspec": {
   "display_name": "Python [conda root]",
   "language": "python",
   "name": "conda-root-py"
  },
  "language_info": {
   "codemirror_mode": {
    "name": "ipython",
    "version": 3
   },
   "file_extension": ".py",
   "mimetype": "text/x-python",
   "name": "python",
   "nbconvert_exporter": "python",
   "pygments_lexer": "ipython3",
   "version": "3.5.3"
  }
 },
 "nbformat": 4,
 "nbformat_minor": 2
}
