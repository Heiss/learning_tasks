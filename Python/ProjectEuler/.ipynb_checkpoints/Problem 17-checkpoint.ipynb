{
 "cells": [
  {
   "cell_type": "code",
   "execution_count": 2,
   "metadata": {},
   "outputs": [
    {
     "ename": "SyntaxError",
     "evalue": "invalid syntax (<ipython-input-2-ef6c2be016d9>, line 10)",
     "output_type": "error",
     "traceback": [
      "\u001b[1;36m  File \u001b[1;32m\"<ipython-input-2-ef6c2be016d9>\"\u001b[1;36m, line \u001b[1;32m10\u001b[0m\n\u001b[1;33m    elif number == 2:\u001b[0m\n\u001b[1;37m       ^\u001b[0m\n\u001b[1;31mSyntaxError\u001b[0m\u001b[1;31m:\u001b[0m invalid syntax\n"
     ]
    }
   ],
   "source": [
    "# Problem 17\n",
    "# nope. its too much work for a learning effect...\n",
    "\n",
    "def get_char_of_int(number):\n",
    "    if number == 1:\n",
    "        erg = \"one\"\n",
    "    elif number == 2:\n",
    "        erg = \"two\"\n",
    "    elif number == 3:\n",
    "        erg = \"three\"\n",
    "    elif number == 4:\n",
    "        erg = \"four\"\n",
    "    elif number == 5:\n",
    "        erg = \"five\"\n",
    "    elif number == 6:\n",
    "        erg = \"six\"\n",
    "    elif number == 7:\n",
    "        erg = \"seven\"    \n",
    "    elif number == 8:\n",
    "        erg = \"eight\"\n",
    "    elif number == 9:\n",
    "        erg = \"nine\"\n",
    "    else\n",
    "        erg = \"zero\"\n",
    "    \n",
    "    return len(erg)\n",
    "\n",
    "def get_char_count(number):\n",
    "    sum = 0\n",
    "    number_text = str(number)\n",
    "    \n",
    "    while len(number_text) > 0:\n",
    "        char = int(number_of_text) % 10\n",
    "        sum += get_char_of_int(char)\n",
    "        \n",
    "        \n",
    "    return sum\n",
    "        \n",
    "        "
   ]
  }
 ],
 "metadata": {
  "kernelspec": {
   "display_name": "Python [conda root]",
   "language": "python",
   "name": "conda-root-py"
  },
  "language_info": {
   "codemirror_mode": {
    "name": "ipython",
    "version": 3
   },
   "file_extension": ".py",
   "mimetype": "text/x-python",
   "name": "python",
   "nbconvert_exporter": "python",
   "pygments_lexer": "ipython3",
   "version": "3.5.3"
  }
 },
 "nbformat": 4,
 "nbformat_minor": 2
}
