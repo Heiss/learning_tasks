{
 "cells": [
  {
   "cell_type": "code",
   "execution_count": 42,
   "metadata": {},
   "outputs": [
    {
     "name": "stdout",
     "output_type": "stream",
     "text": [
      "First done: 37.73479461669922 with length 11439\n",
      "Time: 39.28497672080994, Sum: 8615026\n"
     ]
    }
   ],
   "source": [
    "# Problem 92\n",
    "\n",
    "from time import time\n",
    "\n",
    "starttime = time()\n",
    "target = 10*10**6\n",
    "found1 = set()\n",
    "found89 = set()\n",
    "\n",
    "have_to_check = {}\n",
    "\n",
    "for i in range(1, target+1):\n",
    "    number = int(\"\".join(sorted(str(i))))\n",
    "    try:\n",
    "        have_to_check[number] += 1\n",
    "    except KeyError:\n",
    "        have_to_check[number] = 1\n",
    "\n",
    "print(\"First done: {} with length {}\".format(time()-starttime, len(have_to_check)))\n",
    "\n",
    "for i, val in have_to_check.items():\n",
    "    current = i\n",
    "    \n",
    "    path = [i]\n",
    "    while current != 1 and current != 89:        \n",
    "        temp = 0\n",
    "        for char in str(current):\n",
    "            temp += int(char)**2\n",
    "\n",
    "        current = temp\n",
    "        \n",
    "        if current in found1:\n",
    "            found1 = found1.union(path)\n",
    "            break\n",
    "        \n",
    "        if current in found89:\n",
    "            found89 = found89.union(path)\n",
    "            break\n",
    "            \n",
    "        path.append(current)\n",
    "\n",
    "    if current == 1:\n",
    "        found1 = found1.union(path)\n",
    "    elif current == 89:\n",
    "        found89 = found89.union(path)\n",
    "\n",
    "sum = 0\n",
    "for i in found89:\n",
    "    sum += have_to_check[int(\"\".join(sorted(str(i))))]\n",
    "    have_to_check[int(\"\".join(sorted(str(i))))] = 0\n",
    "    \n",
    "print(\"Time: {}, Sum: {}\".format(time() - starttime, sum))"
   ]
  }
 ],
 "metadata": {
  "kernelspec": {
   "display_name": "Python [conda root]",
   "language": "python",
   "name": "conda-root-py"
  },
  "language_info": {
   "codemirror_mode": {
    "name": "ipython",
    "version": 3
   },
   "file_extension": ".py",
   "mimetype": "text/x-python",
   "name": "python",
   "nbconvert_exporter": "python",
   "pygments_lexer": "ipython3",
   "version": "3.5.3"
  }
 },
 "nbformat": 4,
 "nbformat_minor": 2
}
