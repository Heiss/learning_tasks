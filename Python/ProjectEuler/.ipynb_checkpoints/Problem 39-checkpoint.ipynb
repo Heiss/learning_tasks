{
 "cells": [
  {
   "cell_type": "code",
   "execution_count": 9,
   "metadata": {},
   "outputs": [
    {
     "ename": "SyntaxError",
     "evalue": "invalid syntax (<ipython-input-9-c719fdbe7d66>, line 15)",
     "output_type": "error",
     "traceback": [
      "\u001b[1;36m  File \u001b[1;32m\"<ipython-input-9-c719fdbe7d66>\"\u001b[1;36m, line \u001b[1;32m15\u001b[0m\n\u001b[1;33m    b = p ** 2 - 2 * p * a) / (2 * p - 2 * a))\u001b[0m\n\u001b[1;37m                          ^\u001b[0m\n\u001b[1;31mSyntaxError\u001b[0m\u001b[1;31m:\u001b[0m invalid syntax\n"
     ]
    }
   ],
   "source": [
    "# Problem 39\n",
    "\n",
    "from time import time\n",
    "import math\n",
    "\n",
    "starttime = time()\n",
    "\n",
    "target = 10**3\n",
    "result = 0\n",
    "max_solution = 0\n",
    "\n",
    "for p in range(2, target + 1):\n",
    "    solutions = 0\n",
    "    for a in range(2, int(p / 3)):\n",
    "        b = p * (p - 2 * a) / (2 * (p - a))\n",
    "        \n",
    "        if a > b:\n",
    "            break\n",
    "            \n",
    "        if math.floor(b) == b:\n",
    "            solutions += 1\n",
    "        \n",
    "        if solutions > max_solution:\n",
    "            max_solution = solutions\n",
    "            result = p\n",
    "\n",
    "print(\"Time: {}, p={}, solutions={}\".format(time() - starttime, result, max_solution))"
   ]
  }
 ],
 "metadata": {
  "kernelspec": {
   "display_name": "Python [conda root]",
   "language": "python",
   "name": "conda-root-py"
  },
  "language_info": {
   "codemirror_mode": {
    "name": "ipython",
    "version": 3
   },
   "file_extension": ".py",
   "mimetype": "text/x-python",
   "name": "python",
   "nbconvert_exporter": "python",
   "pygments_lexer": "ipython3",
   "version": "3.5.3"
  }
 },
 "nbformat": 4,
 "nbformat_minor": 2
}
