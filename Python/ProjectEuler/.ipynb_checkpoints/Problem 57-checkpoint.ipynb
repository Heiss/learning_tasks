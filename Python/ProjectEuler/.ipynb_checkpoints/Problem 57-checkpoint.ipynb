{
 "cells": [
  {
   "cell_type": "code",
   "execution_count": 10,
   "metadata": {},
   "outputs": [
    {
     "name": "stdout",
     "output_type": "stream",
     "text": [
      "153\n"
     ]
    }
   ],
   "source": [
    "# Problem 57\n",
    "\n",
    "n = 10**3\n",
    "\n",
    "# a / b\n",
    "a = 1\n",
    "b = 1\n",
    "\n",
    "p = {}\n",
    "p[0] = 0\n",
    "p[1] = 1\n",
    "count = 0\n",
    "\n",
    "def pell_number(n):\n",
    "    if n not in p:\n",
    "        p[n] = 2 * pell_number(n - 1) + pell_number(n - 2)\n",
    "    \n",
    "    return p[n]\n",
    "\n",
    "for i in range(1, n + 1):\n",
    "    a = pell_number(i - 1) + pell_number(i)\n",
    "    b = pell_number(i)\n",
    "    \n",
    "    if len(str(a)) > len(str(b)):\n",
    "        count += 1\n",
    "          \n",
    "print(count)"
   ]
  }
 ],
 "metadata": {
  "kernelspec": {
   "display_name": "Python [conda root]",
   "language": "python",
   "name": "conda-root-py"
  },
  "language_info": {
   "codemirror_mode": {
    "name": "ipython",
    "version": 3
   },
   "file_extension": ".py",
   "mimetype": "text/x-python",
   "name": "python",
   "nbconvert_exporter": "python",
   "pygments_lexer": "ipython3",
   "version": "3.5.3"
  }
 },
 "nbformat": 4,
 "nbformat_minor": 2
}
