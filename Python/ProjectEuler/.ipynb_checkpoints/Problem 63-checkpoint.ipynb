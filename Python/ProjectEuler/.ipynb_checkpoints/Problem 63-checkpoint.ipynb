{
 "cells": [
  {
   "cell_type": "code",
   "execution_count": 6,
   "metadata": {},
   "outputs": [
    {
     "name": "stdout",
     "output_type": "stream",
     "text": [
      "1\n",
      "4\n",
      "5\n",
      "6\n",
      "7\n",
      "7\n",
      "8\n",
      "8\n",
      "8\n",
      "Time: 0.0005021095275878906, Sum: 36\n"
     ]
    }
   ],
   "source": [
    "# Problem 63\n",
    "\n",
    "import math\n",
    "from time import time\n",
    "\n",
    "starttime = time()\n",
    "\n",
    "lower_bound = 0\n",
    "sum = 0\n",
    "n = 1\n",
    "\n",
    "while lower < 10:\n",
    "    lower = int(math.ceil((10**((n-1.0)/n))))\n",
    "    sum += 10 - lower\n",
    "    n += 1\n",
    "    \n",
    "print(\"Time: {}, Sum: {}\".format(time()-starttime, sum))"
   ]
  }
 ],
 "metadata": {
  "kernelspec": {
   "display_name": "Python [conda root]",
   "language": "python",
   "name": "conda-root-py"
  },
  "language_info": {
   "codemirror_mode": {
    "name": "ipython",
    "version": 3
   },
   "file_extension": ".py",
   "mimetype": "text/x-python",
   "name": "python",
   "nbconvert_exporter": "python",
   "pygments_lexer": "ipython3",
   "version": "3.5.3"
  }
 },
 "nbformat": 4,
 "nbformat_minor": 2
}
