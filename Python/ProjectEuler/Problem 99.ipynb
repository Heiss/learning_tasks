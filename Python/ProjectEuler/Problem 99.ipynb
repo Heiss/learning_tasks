{
 "cells": [
  {
   "cell_type": "code",
   "execution_count": 8,
   "metadata": {},
   "outputs": [
    {
     "name": "stdout",
     "output_type": "stream",
     "text": [
      "Time: 0.0074994564056396484, Value: (6919995.552420337, 709)\n"
     ]
    }
   ],
   "source": [
    "# Problem 99\n",
    "\n",
    "import math\n",
    "from time import time\n",
    "\n",
    "starttime = time()\n",
    "\n",
    "lines = []\n",
    "with open('p099_base_exp.txt') as f:\n",
    "    for line in f:\n",
    "        lines.append(tuple(map(int, line.strip().split(\",\"))))\n",
    "    \n",
    "f.close()\n",
    "\n",
    "li = 0\n",
    "max_value = 0\n",
    "for idx, l in enumerate(lines):\n",
    "    ret = l[1] * math.log(l[0])\n",
    "        \n",
    "    if max_value < ret:\n",
    "        li = idx\n",
    "        max_value = ret\n",
    "\n",
    "print(\"Time: {}, Value: {}\".format(time() - starttime, (max_value, li+1)))\n"
   ]
  }
 ],
 "metadata": {
  "kernelspec": {
   "display_name": "Python [conda root]",
   "language": "python",
   "name": "conda-root-py"
  },
  "language_info": {
   "codemirror_mode": {
    "name": "ipython",
    "version": 3
   },
   "file_extension": ".py",
   "mimetype": "text/x-python",
   "name": "python",
   "nbconvert_exporter": "python",
   "pygments_lexer": "ipython3",
   "version": "3.5.3"
  }
 },
 "nbformat": 4,
 "nbformat_minor": 2
}
